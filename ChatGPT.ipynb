{
 "cells": [
  {
   "cell_type": "code",
   "execution_count": 2,
   "id": "f8f3dacb",
   "metadata": {},
   "outputs": [],
   "source": [
    "import re\n",
    "import random"
   ]
  },
  {
   "cell_type": "code",
   "execution_count": 3,
   "id": "4d3c9f3c",
   "metadata": {},
   "outputs": [
    {
     "name": "stdout",
     "output_type": "stream",
     "text": [
      "What is your name?\n",
      "Abhi\n",
      "Hi Abhi, I am Rule-Bot. Will you help me learn about your planet?\n",
      "ok\n",
      "What do you consume for sustenance?Data Science\n",
      "Tell me more!\n",
      "no\n",
      "How do you think I feel when you say that?\n",
      "ok\n",
      "How do you think I feel when you say that?\n",
      "nothing\n",
      "Tell me more!\n",
      "quit\n",
      "Okay, have a nice Earth Day!\n"
     ]
    }
   ],
   "source": [
    "class RuleBot:\n",
    "    negative_responses = (\"no\", \"nope\", \"nah\", \"naw\", \"not a chance\", \"sorry\") #potential negative response\n",
    "    exit_commands = (\"quit\", \"pause\", \"exit\", \"goodbye\", \"bye\", \"later\") #exit conversation keywords\n",
    "    random_questions = (\n",
    "        \"Why are you here?\",\n",
    "        \"Are there many humans like you?\",\n",
    "        \"What do you consume for sustenance?\",\n",
    "        \"Is there intelligent life of this planet?\",\n",
    "        \"Does Earth have a leader?\",\n",
    "        \"What planets have you visited?\",\n",
    "        \"What technology do you have on this planet?\"\n",
    "    )\n",
    "\n",
    "    def __init__(self):\n",
    "        self.alieanbabble = {'describe_planet_intent': r', *\\s*your planet,*',\n",
    "                            'answer_why_intent': r'why\\sare,*'\n",
    "                            }\n",
    "    def great(self):\n",
    "        self.name = input(\"What is your name?\\n\")\n",
    "        will_help = input (\n",
    "            f\"Hi {self.name}, I am Rule-Bot. Will you help me learn about your planet?\\n\")\n",
    "        if will_help in self.negative_responses:\n",
    "            print(\"Ok, have a nice Earth day!\")\n",
    "            return\n",
    "        self.chat()\n",
    "            \n",
    "    def make_exit(self, reply):\n",
    "        for command in self.exit_commands:\n",
    "            if reply == command:\n",
    "                print(\"Okay, have a nice Earth Day!\")\n",
    "                return True\n",
    "            \n",
    "    def chat(self):\n",
    "        reply = input(random.choice(self.random_questions)).lower()\n",
    "        while not self.make_exit(reply):\n",
    "            reply = input(self.match_reply(reply))\n",
    "            \n",
    "    def match_reply(self, reply):\n",
    "        for key, value in self.alieanbabble.items():\n",
    "            intent = key\n",
    "            regex_pattern = value\n",
    "            found_match = re.match(regex_pattern, reply)\n",
    "            if found_match and intent == 'describe_planet_intent':\n",
    "                return self.describe_planet_intent()\n",
    "            elif found_match and intent == 'answer_why_intent':\n",
    "                return self.answer_why_intent()\n",
    "        if not found_match:\n",
    "            return self.no_match_intent()\n",
    "            \n",
    "    def describe_planet_intent(self):\n",
    "        responses = (\"My planet is a utopia of diverse organisms and species.\\n\",\n",
    "                     \"I am from Opidipus, the capital of the Wayward Galaxies.n\")\n",
    "        return random.choice(responses)\n",
    "\n",
    "    def answer_why_intent(self):\n",
    "        responses = (\"I come in peace\\n\", \"I am here to collect data on your planet and its  inhabitants\\n\",\n",
    "                     \"I heard the coffee is good\\n\")\n",
    "        return random.choice(responses)\n",
    "\n",
    "    def no_match_intent(self):\n",
    "        responses = (\n",
    "                    \"Please tell me more.\\n\", \"Tell me more!\\n\", \"Why do you say that?\\n\", \"I see. Can you elaborate ?\\n\",\n",
    "                    \"Interesting. Can you tell me more ?\\n\", \"I see. How do you think?\\n\", \"Why?\\n\",\n",
    "                    \"How do you think I feel when you say that?\\n\")\n",
    "        return random.choice(responses)\n",
    "\n",
    "AlienBot = RuleBot()\n",
    "AlienBot.great()"
   ]
  },
  {
   "cell_type": "code",
   "execution_count": null,
   "id": "39d15123",
   "metadata": {},
   "outputs": [],
   "source": []
  },
  {
   "cell_type": "code",
   "execution_count": null,
   "id": "8e390e2d",
   "metadata": {},
   "outputs": [],
   "source": []
  }
 ],
 "metadata": {
  "kernelspec": {
   "display_name": "Python 3 (ipykernel)",
   "language": "python",
   "name": "python3"
  },
  "language_info": {
   "codemirror_mode": {
    "name": "ipython",
    "version": 3
   },
   "file_extension": ".py",
   "mimetype": "text/x-python",
   "name": "python",
   "nbconvert_exporter": "python",
   "pygments_lexer": "ipython3",
   "version": "3.9.13"
  }
 },
 "nbformat": 4,
 "nbformat_minor": 5
}
